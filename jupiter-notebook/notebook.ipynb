{
 "cells": [
  {
   "cell_type": "code",
   "execution_count": 4,
   "metadata": {},
   "outputs": [
    {
     "name": "stdout",
     "output_type": "stream",
     "text": [
      "^C\n"
     ]
    },
    {
     "name": "stdout",
     "output_type": "stream",
     "text": [
      "Requirement already satisfied: influxdb-client in c:\\users\\admin\\anaconda3\\lib\\site-packages (1.45.0)\n",
      "Requirement already satisfied: reactivex>=4.0.4 in c:\\users\\admin\\anaconda3\\lib\\site-packages (from influxdb-client) (4.0.4)\n",
      "Requirement already satisfied: certifi>=14.05.14 in c:\\users\\admin\\anaconda3\\lib\\site-packages (from influxdb-client) (2024.6.2)\n",
      "Requirement already satisfied: python-dateutil>=2.5.3 in c:\\users\\admin\\anaconda3\\lib\\site-packages (from influxdb-client) (2.9.0.post0)\n",
      "Requirement already satisfied: setuptools>=21.0.0 in c:\\users\\admin\\anaconda3\\lib\\site-packages (from influxdb-client) (69.5.1)\n",
      "Requirement already satisfied: urllib3>=1.26.0 in c:\\users\\admin\\anaconda3\\lib\\site-packages (from influxdb-client) (2.2.2)\n",
      "Requirement already satisfied: six>=1.5 in c:\\users\\admin\\anaconda3\\lib\\site-packages (from python-dateutil>=2.5.3->influxdb-client) (1.16.0)\n",
      "Requirement already satisfied: typing-extensions<5.0.0,>=4.1.1 in c:\\users\\admin\\anaconda3\\lib\\site-packages (from reactivex>=4.0.4->influxdb-client) (4.11.0)\n"
     ]
    }
   ],
   "source": [
    "# !pip install influxdb-client"
   ]
  },
  {
   "cell_type": "code",
   "execution_count": 6,
   "metadata": {},
   "outputs": [],
   "source": [
    "import os\n",
    "os.environ[\"INFLUXDB_TOKEN\"] = (\n",
    "    \"YOUR_INFLUX_TOKEN\")"
   ]
  },
  {
   "cell_type": "code",
   "execution_count": null,
   "metadata": {},
   "outputs": [],
   "source": []
  },
  {
   "cell_type": "code",
   "execution_count": 9,
   "metadata": {},
   "outputs": [],
   "source": [
    "import influxdb_client, os, time\n",
    "from influxdb_client import InfluxDBClient, Point, WritePrecision\n",
    "from influxdb_client.client.write_api import SYNCHRONOUS\n",
    "\n",
    "token = os.environ.get(\"INFLUXDB_TOKEN\")\n",
    "org = \"Ubru Farm\"\n",
    "url = \"http://localhost:8086\"\n",
    "\n",
    "client = influxdb_client.InfluxDBClient(url=url, token=token, org=org)\n"
   ]
  },
  {
   "cell_type": "code",
   "execution_count": 61,
   "metadata": {},
   "outputs": [
    {
     "name": "stdout",
     "output_type": "stream",
     "text": [
      "Requirement already satisfied: pytz in c:\\users\\admin\\anaconda3\\lib\\site-packages (2024.1)\n"
     ]
    }
   ],
   "source": [
    "!pip install pytz\n"
   ]
  },
  {
   "cell_type": "code",
   "execution_count": 66,
   "metadata": {},
   "outputs": [
    {
     "name": "stdout",
     "output_type": "stream",
     "text": [
      "Table (FluxTable() columns: 8, records: 8):\n",
      "Time: 2024-09-09 15:11:15 +07, Field: Atmophere-Humidity, Value: 45.0\n",
      "Time: 2024-09-09 15:14:20 +07, Field: Atmophere-Humidity, Value: 45.0\n",
      "Time: 2024-09-09 15:20:11 +07, Field: Atmophere-Humidity, Value: 45.0\n",
      "Time: 2024-09-09 15:20:30 +07, Field: Atmophere-Humidity, Value: 45.0\n",
      "Time: 2024-09-12 15:06:37 +07, Field: Atmophere-Humidity, Value: 45.0\n",
      "Time: 2024-09-12 15:12:37 +07, Field: Atmophere-Humidity, Value: 85.0\n",
      "Time: 2024-09-12 15:29:44 +07, Field: Atmophere-Humidity, Value: 12.0\n",
      "Time: 2024-09-12 16:14:43 +07, Field: Atmophere-Humidity, Value: 90.0\n",
      "\n",
      "\n",
      "Table (FluxTable() columns: 8, records: 8):\n",
      "Time: 2024-09-09 15:11:15 +07, Field: Atmophere-Temperature, Value: 26.0\n",
      "Time: 2024-09-09 15:14:20 +07, Field: Atmophere-Temperature, Value: 26.0\n",
      "Time: 2024-09-09 15:20:11 +07, Field: Atmophere-Temperature, Value: 26.0\n",
      "Time: 2024-09-09 15:20:30 +07, Field: Atmophere-Temperature, Value: 26.0\n",
      "Time: 2024-09-12 15:06:37 +07, Field: Atmophere-Temperature, Value: 26.0\n",
      "Time: 2024-09-12 15:12:37 +07, Field: Atmophere-Temperature, Value: 26.0\n",
      "Time: 2024-09-12 15:29:44 +07, Field: Atmophere-Temperature, Value: 26.0\n",
      "Time: 2024-09-12 16:14:43 +07, Field: Atmophere-Temperature, Value: 26.0\n",
      "\n",
      "\n",
      "Table (FluxTable() columns: 8, records: 8):\n",
      "Time: 2024-09-09 15:11:15 +07, Field: Light, Value: 25400.0\n",
      "Time: 2024-09-09 15:14:20 +07, Field: Light, Value: 25400.0\n",
      "Time: 2024-09-09 15:20:11 +07, Field: Light, Value: 25400.0\n",
      "Time: 2024-09-09 15:20:30 +07, Field: Light, Value: 25400.0\n",
      "Time: 2024-09-12 15:06:37 +07, Field: Light, Value: 25400.0\n",
      "Time: 2024-09-12 15:12:37 +07, Field: Light, Value: 25400.0\n",
      "Time: 2024-09-12 15:29:44 +07, Field: Light, Value: 25400.0\n",
      "Time: 2024-09-12 16:14:43 +07, Field: Light, Value: 25400.0\n",
      "\n",
      "\n",
      "Table (FluxTable() columns: 8, records: 8):\n",
      "Time: 2024-09-09 15:11:15 +07, Field: Water-Temperature-Box-A, Value: 20.0\n",
      "Time: 2024-09-09 15:14:20 +07, Field: Water-Temperature-Box-A, Value: 20.0\n",
      "Time: 2024-09-09 15:20:11 +07, Field: Water-Temperature-Box-A, Value: 20.0\n",
      "Time: 2024-09-09 15:20:30 +07, Field: Water-Temperature-Box-A, Value: 20.0\n",
      "Time: 2024-09-12 15:06:37 +07, Field: Water-Temperature-Box-A, Value: 20.0\n",
      "Time: 2024-09-12 15:12:37 +07, Field: Water-Temperature-Box-A, Value: 20.0\n",
      "Time: 2024-09-12 15:29:44 +07, Field: Water-Temperature-Box-A, Value: 20.0\n",
      "Time: 2024-09-12 16:14:43 +07, Field: Water-Temperature-Box-A, Value: 20.0\n",
      "\n",
      "\n",
      "Table (FluxTable() columns: 8, records: 8):\n",
      "Time: 2024-09-09 15:11:15 +07, Field: Water-Temperature-Box-B, Value: 19.0\n",
      "Time: 2024-09-09 15:14:20 +07, Field: Water-Temperature-Box-B, Value: 19.0\n",
      "Time: 2024-09-09 15:20:11 +07, Field: Water-Temperature-Box-B, Value: 19.0\n",
      "Time: 2024-09-09 15:20:30 +07, Field: Water-Temperature-Box-B, Value: 19.0\n",
      "Time: 2024-09-12 15:06:37 +07, Field: Water-Temperature-Box-B, Value: 19.0\n",
      "Time: 2024-09-12 15:12:37 +07, Field: Water-Temperature-Box-B, Value: 19.0\n",
      "Time: 2024-09-12 15:29:44 +07, Field: Water-Temperature-Box-B, Value: 19.0\n",
      "Time: 2024-09-12 16:14:43 +07, Field: Water-Temperature-Box-B, Value: 19.0\n",
      "\n",
      "\n"
     ]
    }
   ],
   "source": [
    "from datetime import datetime\n",
    "from influxdb_client import InfluxDBClient\n",
    "import pytz\n",
    "\n",
    "# Initialize your InfluxDB client\n",
    "client = InfluxDBClient(url=\"http://localhost:8086\", token=\"Your access token\", org=\"Ubru Farm\")\n",
    "\n",
    "query_api = client.query_api()\n",
    "\n",
    "# Define your time range and window period\n",
    "start_time = \"2024-09-01T00:00:00Z\"\n",
    "stop_time = \"2024-10-12T00:00:00Z\"\n",
    "\n",
    "# Replace \"temperature\" with your actual numeric field name\n",
    "query = f\"\"\"\n",
    "from(bucket: \"Hydropolic-Farm\")\n",
    "  |> range(start: {start_time}, stop: {stop_time})\n",
    "  |> filter(fn: (r) => r[\"_field\"] == \"Atmophere-Humidity\" or r[\"_field\"] == \"Atmophere-Temperature\" or r[\"_field\"] == \"Light\" or r[\"_field\"] == \"Water-Temperature-Box-A\" or r[\"_field\"] == \"Water-Temperature-Box-B\")\n",
    "  |> yield(name: \"mean\")\n",
    "\"\"\"\n",
    "def format_time(dt):\n",
    "    # Convert the datetime object to Thailand time zone\n",
    "    thailand_tz = pytz.timezone('Asia/Bangkok')\n",
    "    local_time = dt.astimezone(thailand_tz)\n",
    "    return local_time.strftime('%Y-%m-%d %H:%M:%S %Z')\n",
    "\n",
    "try:\n",
    "    tables = query_api.query(query, org=\"Ubru Farm\")\n",
    "\n",
    "    for table in tables:\n",
    "        print(f\"Table ({table}):\")\n",
    "        for record in table.records:\n",
    "            # Convert the _time field to a readable format\n",
    "            readable_time = format_time(record['_time'] )\n",
    "            print(f\"Time: {readable_time}, Field: {record['_field']}, Value: {record['_value']}\")\n",
    "        print(\"\\n\")\n",
    "except Exception as e:\n",
    "    print(f\"An error occurred: {e}\")"
   ]
  },
  {
   "cell_type": "code",
   "execution_count": 71,
   "metadata": {},
   "outputs": [
    {
     "name": "stdout",
     "output_type": "stream",
     "text": [
      "2024-09-12 16:14:43 +07 ; Atmophere-Humidity, Value: 90.0 ; Atmophere-Temperature, Value: 26.0 ; Light, Value: 25400.0 ; Water-Temperature-Box-A, Value: 20.0 ; Water-Temperature-Box-B, Value: 19.0\n",
      "2024-09-12 15:29:44 +07 ; Atmophere-Humidity, Value: 12.0 ; Atmophere-Temperature, Value: 26.0 ; Light, Value: 25400.0 ; Water-Temperature-Box-A, Value: 20.0 ; Water-Temperature-Box-B, Value: 19.0\n",
      "2024-09-12 15:12:37 +07 ; Atmophere-Humidity, Value: 85.0 ; Atmophere-Temperature, Value: 26.0 ; Light, Value: 25400.0 ; Water-Temperature-Box-A, Value: 20.0 ; Water-Temperature-Box-B, Value: 19.0\n",
      "2024-09-12 15:06:37 +07 ; Atmophere-Humidity, Value: 45.0 ; Atmophere-Temperature, Value: 26.0 ; Light, Value: 25400.0 ; Water-Temperature-Box-A, Value: 20.0 ; Water-Temperature-Box-B, Value: 19.0\n",
      "2024-09-09 15:20:30 +07 ; Atmophere-Humidity, Value: 45.0 ; Atmophere-Temperature, Value: 26.0 ; Light, Value: 25400.0 ; Water-Temperature-Box-A, Value: 20.0 ; Water-Temperature-Box-B, Value: 19.0\n"
     ]
    }
   ],
   "source": [
    "from datetime import datetime\n",
    "from influxdb_client import InfluxDBClient\n",
    "import pytz\n",
    "\n",
    "# Initialize your InfluxDB client\n",
    "client = InfluxDBClient(url=\"http://localhost:8086\", token=\"\", org=\"\")\n",
    "\n",
    "query_api = client.query_api()\n",
    "\n",
    "# Define your time range and window period\n",
    "start_time = \"2024-09-01T00:00:00Z\"\n",
    "stop_time = \"2024-10-12T00:00:00Z\"\n",
    "\n",
    "# Replace \"temperature\" with your actual numeric field name\n",
    "query = f\"\"\"\n",
    "from(bucket: \"Hydropolic-Farm\")\n",
    "  |> range(start: {start_time}, stop: {stop_time})\n",
    "  |> filter(fn: (r) => r[\"_field\"] == \"Atmophere-Humidity\" or r[\"_field\"] == \"Atmophere-Temperature\" or r[\"_field\"] == \"Light\" or r[\"_field\"] == \"Water-Temperature-Box-A\" or r[\"_field\"] == \"Water-Temperature-Box-B\")\n",
    "  |> yield(name: \"mean\")\n",
    "\"\"\"\n",
    "\n",
    "def format_time(dt):\n",
    "    # Convert the datetime object to Thailand time zone\n",
    "    thailand_tz = pytz.timezone('Asia/Bangkok')\n",
    "    local_time = dt.astimezone(thailand_tz)\n",
    "    return local_time.strftime('%Y-%m-%d %H:%M:%S %Z')\n",
    "\n",
    "try:\n",
    "    tables = query_api.query(query, org=\"\")\n",
    "    \n",
    "    # Collect all records\n",
    "    records_by_date = {}\n",
    "    \n",
    "    for table in tables:\n",
    "        for record in table.records:\n",
    "            timestamp = format_time(record['_time'])\n",
    "            if timestamp not in records_by_date:\n",
    "                records_by_date[timestamp] = []\n",
    "            records_by_date[timestamp].append(f\"{record['_field']}, Value: {record['_value']}\")\n",
    "    \n",
    "    # Sort dates in descending order\n",
    "    sorted_dates = sorted(records_by_date.keys(), reverse=True)\n",
    "    \n",
    "    # Print records grouped by date\n",
    "    # [:5] use to cut the latest 5 record only\n",
    "    for date in sorted_dates[:5]:   \n",
    "        records = \" ; \".join(records_by_date[date])\n",
    "        print(f\"{date} ; {records}\")\n",
    "\n",
    "except Exception as e:\n",
    "    print(f\"An error occurred: {e}\")\n"
   ]
  },
  {
   "cell_type": "markdown",
   "metadata": {},
   "source": [
    "# Using library to fetch realtime data with 10 days past"
   ]
  },
  {
   "cell_type": "code",
   "execution_count": 1,
   "metadata": {},
   "outputs": [
    {
     "name": "stderr",
     "output_type": "stream",
     "text": [
      "C:\\Users\\admin\\AppData\\Local\\Temp\\ipykernel_4328\\2654839037.py:11: DeprecationWarning: datetime.datetime.utcnow() is deprecated and scheduled for removal in a future version. Use timezone-aware objects to represent datetimes in UTC: datetime.datetime.now(datetime.UTC).\n",
      "  end_time = datetime.utcnow()  # current time in UTC\n"
     ]
    },
    {
     "name": "stdout",
     "output_type": "stream",
     "text": [
      "2024-09-12 16:14:43 +07 ; Atmophere-Humidity, Value: 90.0 ; Atmophere-Temperature, Value: 26.0 ; Light, Value: 25400.0 ; Water-Temperature-Box-A, Value: 20.0 ; Water-Temperature-Box-B, Value: 19.0\n",
      "2024-09-12 15:29:44 +07 ; Atmophere-Humidity, Value: 12.0 ; Atmophere-Temperature, Value: 26.0 ; Light, Value: 25400.0 ; Water-Temperature-Box-A, Value: 20.0 ; Water-Temperature-Box-B, Value: 19.0\n",
      "2024-09-12 15:12:37 +07 ; Atmophere-Humidity, Value: 85.0 ; Atmophere-Temperature, Value: 26.0 ; Light, Value: 25400.0 ; Water-Temperature-Box-A, Value: 20.0 ; Water-Temperature-Box-B, Value: 19.0\n",
      "2024-09-12 15:06:37 +07 ; Atmophere-Humidity, Value: 45.0 ; Atmophere-Temperature, Value: 26.0 ; Light, Value: 25400.0 ; Water-Temperature-Box-A, Value: 20.0 ; Water-Temperature-Box-B, Value: 19.0\n",
      "2024-09-09 15:20:30 +07 ; Atmophere-Humidity, Value: 45.0 ; Atmophere-Temperature, Value: 26.0 ; Light, Value: 25400.0 ; Water-Temperature-Box-A, Value: 20.0 ; Water-Temperature-Box-B, Value: 19.0\n"
     ]
    }
   ],
   "source": [
    "from datetime import datetime, timedelta\n",
    "from influxdb_client import InfluxDBClient\n",
    "import pytz\n",
    "\n",
    "# Initialize your InfluxDB client\n",
    "client = InfluxDBClient(url=\"http://localhost:8086\", token=\"Your access token\", org=\"Your influxdb org\")\n",
    "\n",
    "query_api = client.query_api()\n",
    "\n",
    "# Calculate dynamic time range (last 10 days)\n",
    "end_time = datetime.utcnow()  # current time in UTC\n",
    "start_time = end_time - timedelta(days=10)  # 10 days ago\n",
    "\n",
    "# Format times in ISO 8601 format (for InfluxDB query)\n",
    "start_time_str = start_time.isoformat() + 'Z'\n",
    "end_time_str = end_time.isoformat() + 'Z'\n",
    "\n",
    "# Replace \"temperature\" with your actual numeric field name\n",
    "query = f\"\"\"\n",
    "from(bucket: \"Hydropolic-Farm\")\n",
    "  |> range(start: {start_time_str}, stop: {end_time_str})\n",
    "  |> filter(fn: (r) => r[\"_field\"] == \"Atmophere-Humidity\" or r[\"_field\"] == \"Atmophere-Temperature\" or r[\"_field\"] == \"Light\" or r[\"_field\"] == \"Water-Temperature-Box-A\" or r[\"_field\"] == \"Water-Temperature-Box-B\")\n",
    "  |> yield(name: \"mean\")\n",
    "\"\"\"\n",
    "\n",
    "def format_time(dt):\n",
    "    # Convert the datetime object to Thailand time zone\n",
    "    thailand_tz = pytz.timezone('Asia/Bangkok')\n",
    "    local_time = dt.astimezone(thailand_tz)\n",
    "    return local_time.strftime('%Y-%m-%d %H:%M:%S %Z')\n",
    "\n",
    "try:\n",
    "    tables = query_api.query(query, org=\"Your influxdb org\")\n",
    "    \n",
    "    # Collect all records\n",
    "    records_by_date = {}\n",
    "    \n",
    "    for table in tables:\n",
    "        for record in table.records:\n",
    "            timestamp = format_time(record['_time'])\n",
    "            if timestamp not in records_by_date:\n",
    "                records_by_date[timestamp] = []\n",
    "            records_by_date[timestamp].append(f\"{record['_field']}, Value: {record['_value']}\")\n",
    "    \n",
    "    # Sort dates in descending order\n",
    "    sorted_dates = sorted(records_by_date.keys(), reverse=True)\n",
    "    \n",
    "    # Print records grouped by date\n",
    "    # [:5] use to cut the latest 5 records only\n",
    "    for date in sorted_dates[:5]:   \n",
    "        records = \" ; \".join(records_by_date[date])\n",
    "        print(f\"{date} ; {records}\")\n",
    "\n",
    "except Exception as e:\n",
    "    print(f\"An error occurred: {e}\")\n"
   ]
  }
 ],
 "metadata": {
  "kernelspec": {
   "display_name": "base",
   "language": "python",
   "name": "python3"
  },
  "language_info": {
   "codemirror_mode": {
    "name": "ipython",
    "version": 3
   },
   "file_extension": ".py",
   "mimetype": "text/x-python",
   "name": "python",
   "nbconvert_exporter": "python",
   "pygments_lexer": "ipython3",
   "version": "3.12.4"
  }
 },
 "nbformat": 4,
 "nbformat_minor": 2
}
